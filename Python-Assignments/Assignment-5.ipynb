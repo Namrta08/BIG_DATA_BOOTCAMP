{
 "cells": [
  {
   "cell_type": "markdown",
   "id": "2b84193c",
   "metadata": {},
   "source": [
    "# ASSIGNMENT-5:"
   ]
  },
  {
   "cell_type": "markdown",
   "id": "e1f61a37",
   "metadata": {},
   "source": [
    "1. Write a Python Program to Find LCM?"
   ]
  },
  {
   "cell_type": "code",
   "execution_count": 5,
   "id": "3f37b4e3",
   "metadata": {},
   "outputs": [
    {
     "name": "stdout",
     "output_type": "stream",
     "text": [
      "enter a number: 6\n",
      "enter a number: 9\n",
      "LCM of a and b is 18\n"
     ]
    }
   ],
   "source": [
    "def lcm(a,b):\n",
    "    \n",
    "    highest = a if a > b else b\n",
    "    temp = highest\n",
    "    while True:\n",
    "        if (highest%a==0) and (highest%b==0):\n",
    "            break\n",
    "        else:\n",
    "            highest += temp\n",
    "            \n",
    "    return highest\n",
    "\n",
    "a = int(input(\"enter a number: \"))\n",
    "b = int(input(\"enter a number: \"))\n",
    "print(f\"LCM of a and b is {lcm(a,b)}\")"
   ]
  },
  {
   "cell_type": "markdown",
   "id": "7b9b61cd",
   "metadata": {},
   "source": [
    "2. Write a Python Program to Find HCF?"
   ]
  },
  {
   "cell_type": "code",
   "execution_count": 2,
   "id": "ba38719d",
   "metadata": {},
   "outputs": [
    {
     "name": "stdout",
     "output_type": "stream",
     "text": [
      "enter a number: 52\n",
      "enter a number: 24\n",
      "HCF of a and b is 4\n"
     ]
    }
   ],
   "source": [
    "def hcf(a, b):\n",
    "    \n",
    "    lowest = a if a < b else b\n",
    "    temp = lowest\n",
    "    for i in range(lowest, 1, -1):\n",
    "        if (a%i==0) and (b%i==0):\n",
    "            return i    \n",
    "\n",
    "a = int(input(\"enter a number: \"))\n",
    "b = int(input(\"enter a number: \"))\n",
    "print(f\"HCF of a and b is {hcf(a,b)}\")"
   ]
  },
  {
   "cell_type": "markdown",
   "id": "1f0d90c5",
   "metadata": {},
   "source": [
    "3. Write a Python Program to Convert Decimal to Binary, Octal and Hexadecimal?"
   ]
  },
  {
   "cell_type": "code",
   "execution_count": 3,
   "id": "ddfa6afb",
   "metadata": {},
   "outputs": [
    {
     "name": "stdout",
     "output_type": "stream",
     "text": [
      "Binary:       0b100\n",
      "Octal:        0o4\n",
      "Hexadecimal:  0x4\n"
     ]
    }
   ],
   "source": [
    "def conversion(num):\n",
    "    print(\"Binary:      \", bin(num))\n",
    "    print(\"Octal:       \", oct(num))\n",
    "    print(\"Hexadecimal: \", hex(num))\n",
    "\n",
    "conversion(4)"
   ]
  },
  {
   "cell_type": "markdown",
   "id": "48c1c78b",
   "metadata": {},
   "source": [
    "4. Write a Python Program To Find ASCII value of a character?"
   ]
  },
  {
   "cell_type": "code",
   "execution_count": 4,
   "id": "af24154e",
   "metadata": {},
   "outputs": [
    {
     "name": "stdout",
     "output_type": "stream",
     "text": [
      "Enter a character: A\n",
      "ASCII value of A is 65\n"
     ]
    }
   ],
   "source": [
    "try:\n",
    "    char = input(\"Enter a character: \")\n",
    "    ASCII = ord(char)\n",
    "    print(f\"ASCII value of {char} is {ASCII}\")\n",
    "except Exception as e:\n",
    "    print(e)"
   ]
  },
  {
   "cell_type": "code",
   "execution_count": 8,
   "id": "9151a529",
   "metadata": {},
   "outputs": [
    {
     "name": "stdout",
     "output_type": "stream",
     "text": [
      "Enter a character: a\n",
      "ASCII value of a is 97\n"
     ]
    }
   ],
   "source": [
    "try:\n",
    "    char = input(\"Enter a character: \")\n",
    "    ASCII = ord(char)\n",
    "    print(f\"ASCII value of {char} is {ASCII}\")\n",
    "except Exception as e:\n",
    "    print(e)"
   ]
  },
  {
   "cell_type": "markdown",
   "id": "44730940",
   "metadata": {},
   "source": [
    "5. Write a Python Program to Make a Simple Calculator with 4 basic mathematical operations?"
   ]
  },
  {
   "cell_type": "code",
   "execution_count": 9,
   "id": "07f488d8",
   "metadata": {},
   "outputs": [
    {
     "name": "stdout",
     "output_type": "stream",
     "text": [
      "Enter first number: 45\n",
      "Enter second number: 87\n",
      "For addition:       +\n",
      "For subtraction:    -\n",
      "For multiplicaton:  *\n",
      "For division:       /\n",
      "For Exit:            X\n",
      "Enter the choice for mathematical operations: +\n",
      "Result:  132\n",
      "Enter first number: 89\n",
      "Enter second number: 0\n",
      "For addition:       +\n",
      "For subtraction:    -\n",
      "For multiplicaton:  *\n",
      "For division:       /\n",
      "For Exit:            X\n",
      "Enter the choice for mathematical operations: /\n",
      "division by zero\n"
     ]
    }
   ],
   "source": [
    "try:\n",
    "    while True:\n",
    "        num1 = int(input(\"Enter first number: \"))\n",
    "        num2 = int(input(\"Enter second number: \"))\n",
    "        \n",
    "        print(\"For addition:       +\")\n",
    "        print(\"For subtraction:    -\")\n",
    "        print(\"For multiplicaton:  *\")\n",
    "        print(\"For division:       /\")\n",
    "        print(\"For Exit:            X\")\n",
    "        \n",
    "        ch = input(\"Enter the choice for mathematical operations: \")\n",
    "        \n",
    "        \n",
    "        if ch == '+':\n",
    "            output = num1 + num2\n",
    "        elif ch == '-':\n",
    "            output = num1 - num2\n",
    "        elif ch == '*':\n",
    "            output = num1 * num2\n",
    "        elif ch == '/':\n",
    "            output = num1 / num2\n",
    "        \n",
    "        if ch == 'X' or ch == 'x':\n",
    "            break\n",
    "            \n",
    "        print(\"Result: \", output)\n",
    "        \n",
    "except Exception as e:\n",
    "    print(e)"
   ]
  },
  {
   "cell_type": "code",
   "execution_count": null,
   "id": "8ade488e",
   "metadata": {},
   "outputs": [],
   "source": []
  }
 ],
 "metadata": {
  "kernelspec": {
   "display_name": "Python 3 (ipykernel)",
   "language": "python",
   "name": "python3"
  },
  "language_info": {
   "codemirror_mode": {
    "name": "ipython",
    "version": 3
   },
   "file_extension": ".py",
   "mimetype": "text/x-python",
   "name": "python",
   "nbconvert_exporter": "python",
   "pygments_lexer": "ipython3",
   "version": "3.9.13"
  }
 },
 "nbformat": 4,
 "nbformat_minor": 5
}
