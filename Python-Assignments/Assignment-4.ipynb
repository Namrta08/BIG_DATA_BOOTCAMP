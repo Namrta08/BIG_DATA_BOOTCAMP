{
 "cells": [
  {
   "cell_type": "markdown",
   "id": "a4b02825",
   "metadata": {},
   "source": [
    "# ASSIGNMENT-4:"
   ]
  },
  {
   "cell_type": "markdown",
   "id": "c3f143f6",
   "metadata": {},
   "source": [
    "\n",
    "1. Write a Python Program to Find the Factorial of a Number?\n"
   ]
  },
  {
   "cell_type": "code",
   "execution_count": 2,
   "id": "9bd45569",
   "metadata": {},
   "outputs": [
    {
     "name": "stdout",
     "output_type": "stream",
     "text": [
      "enter a number: 7\n",
      "7! = 5040\n"
     ]
    }
   ],
   "source": [
    "def factorial(num):\n",
    "    if num == 0 or num == 1:\n",
    "        return 1\n",
    "    return num * factorial(num-1)\n",
    "n = int(input(\"enter a number: \"))\n",
    "print(f\"{n}! = {factorial(n)}\")"
   ]
  },
  {
   "cell_type": "markdown",
   "id": "6e9eef4d",
   "metadata": {},
   "source": [
    "2. Write a Python Program to Display the multiplication Table?"
   ]
  },
  {
   "cell_type": "code",
   "execution_count": 3,
   "id": "92ebb812",
   "metadata": {},
   "outputs": [
    {
     "name": "stdout",
     "output_type": "stream",
     "text": [
      "enter a number: 4\n",
      "multiplication table of 4 is:\n",
      "4 * 1 = 4\n",
      "4 * 2 = 8\n",
      "4 * 3 = 12\n",
      "4 * 4 = 16\n",
      "4 * 5 = 20\n",
      "4 * 6 = 24\n",
      "4 * 7 = 28\n",
      "4 * 8 = 32\n",
      "4 * 9 = 36\n",
      "4 * 10 = 40\n"
     ]
    }
   ],
   "source": [
    "n = int(input(\"enter a number: \"))\n",
    "print(f\"multiplication table of {n} is:\")\n",
    "for i in range(1, 11):\n",
    "    print(f\"{n} * {i} = {n*i}\")"
   ]
  },
  {
   "cell_type": "markdown",
   "id": "42c1a4f3",
   "metadata": {},
   "source": [
    "3. Write a Python Program to Print the Fibonacci sequence?\n"
   ]
  },
  {
   "cell_type": "code",
   "execution_count": 4,
   "id": "6daab250",
   "metadata": {},
   "outputs": [
    {
     "name": "stdout",
     "output_type": "stream",
     "text": [
      "enter length: 9\n",
      "0 1 1 2 3 5 8 13 21 "
     ]
    }
   ],
   "source": [
    "def fibonacci(l):\n",
    "    if l == 0 or l == 1:\n",
    "        return l\n",
    "    return fibonacci(l-1) + fibonacci(l-2)\n",
    "n = int(input(\"enter length: \"))\n",
    "for i in range(n):\n",
    "    print(fibonacci(i), end = \" \")"
   ]
  },
  {
   "cell_type": "markdown",
   "id": "be500153",
   "metadata": {},
   "source": [
    "4. Write a Python Program to Check Armstrong Number?\n",
    "  ##### Armstrong number is a number that is equal to the sum of cubes of its digits.\n",
    "  "
   ]
  },
  {
   "cell_type": "code",
   "execution_count": 25,
   "id": "dd4eed52",
   "metadata": {},
   "outputs": [
    {
     "name": "stdout",
     "output_type": "stream",
     "text": [
      "enter number: 370\n",
      "370 is an armstrong no.\n"
     ]
    }
   ],
   "source": [
    "def sum_of_cubes_of_digits(n):\n",
    "    if n < 10:\n",
    "        return pow(n%10, 3)\n",
    "    return pow(n%10, 3) + sum_of_cubes_of_digits(n//10)\n",
    "num = int(input(\"enter number: \"))\n",
    "if num == int(sum_of_cubes_of_digits(num)):\n",
    "    print(f\"{num} is an armstrong no.\")\n",
    "else:\n",
    "    print(f\"{num} is not an armstrong no.\")"
   ]
  },
  {
   "cell_type": "markdown",
   "id": "7b8909c4",
   "metadata": {},
   "source": [
    "5. Write a Python Program to Find Armstrong Number in an Interval?\n"
   ]
  },
  {
   "cell_type": "code",
   "execution_count": 24,
   "id": "8b3043ad",
   "metadata": {},
   "outputs": [
    {
     "name": "stdout",
     "output_type": "stream",
     "text": [
      "start range: 100\n",
      "end range: 500\n",
      "153 370 371 407 "
     ]
    }
   ],
   "source": [
    "n1 = int(input(\"start range: \"))\n",
    "n2 = int(input(\"end range: \"))\n",
    "\n",
    "for i in range(n1, n2+1):\n",
    "    if i == sum_of_cubes_of_digits(i):\n",
    "        print(i, end = \" \")\n",
    "    else:\n",
    "        continue"
   ]
  },
  {
   "cell_type": "markdown",
   "id": "3d41925e",
   "metadata": {},
   "source": [
    "6. Write a Python Program to Find the Sum of Natural Numbers?\n"
   ]
  },
  {
   "cell_type": "code",
   "execution_count": 28,
   "id": "3d41db68",
   "metadata": {},
   "outputs": [
    {
     "name": "stdout",
     "output_type": "stream",
     "text": [
      "give number: 100\n",
      "sum of 100 natural numbers is: 5050\n"
     ]
    }
   ],
   "source": [
    "def sum_natural_numbers(n):\n",
    "    if n == 1:\n",
    "        return 1\n",
    "    return n + sum_natural_numbers(n-1)\n",
    "\n",
    "num = int(input(\"give number: \"))\n",
    "print(f\"sum of {num} natural numbers is: {sum_natural_numbers(num)}\")"
   ]
  }
 ],
 "metadata": {
  "kernelspec": {
   "display_name": "Python 3 (ipykernel)",
   "language": "python",
   "name": "python3"
  },
  "language_info": {
   "codemirror_mode": {
    "name": "ipython",
    "version": 3
   },
   "file_extension": ".py",
   "mimetype": "text/x-python",
   "name": "python",
   "nbconvert_exporter": "python",
   "pygments_lexer": "ipython3",
   "version": "3.9.13"
  }
 },
 "nbformat": 4,
 "nbformat_minor": 5
}
