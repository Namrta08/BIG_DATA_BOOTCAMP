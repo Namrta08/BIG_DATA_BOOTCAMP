{
 "cells": [
  {
   "cell_type": "markdown",
   "id": "075df643",
   "metadata": {},
   "source": [
    "# ASSIGNMENT - 1:"
   ]
  },
  {
   "cell_type": "markdown",
   "id": "c47a2afb",
   "metadata": {},
   "source": [
    " 1. Write a Python program to print \"Hello Python\"?"
   ]
  },
  {
   "cell_type": "code",
   "execution_count": 1,
   "id": "b44da220",
   "metadata": {},
   "outputs": [
    {
     "name": "stdout",
     "output_type": "stream",
     "text": [
      "Hello Python\n"
     ]
    }
   ],
   "source": [
    "print(\"Hello Python\")"
   ]
  },
  {
   "cell_type": "markdown",
   "id": "7d3da650",
   "metadata": {},
   "source": [
    "2. Write a Python program to do arithmetical operations addition and division.?"
   ]
  },
  {
   "cell_type": "code",
   "execution_count": 9,
   "id": "4c7746ce",
   "metadata": {},
   "outputs": [
    {
     "name": "stdout",
     "output_type": "stream",
     "text": [
      "enter 1st number: 1\n",
      "enter 2nd number: 5\n",
      "Addition of 1st and 2nd number is: 6\n",
      "Division of 1st by 2nd number is: 0.2\n"
     ]
    }
   ],
   "source": [
    "a = int(input(\"enter 1st number: \"))\n",
    "b = int(input(\"enter 2nd number: \"))\n",
    "\n",
    "# Addition:\n",
    "Addition = a + b\n",
    "print(f\"Addition of 1st and 2nd number is: {Addition}\")\n",
    "\n",
    "# Division:\n",
    "try:\n",
    "    Division = a / b\n",
    "    print(f\"Division of 1st by 2nd number is: {Division}\")\n",
    "except Exception as e:\n",
    "    print(\"Error occured: \", e)"
   ]
  },
  {
   "cell_type": "code",
   "execution_count": 10,
   "id": "6706c6ea",
   "metadata": {},
   "outputs": [
    {
     "name": "stdout",
     "output_type": "stream",
     "text": [
      "enter 1st number: 6\n",
      "enter 2nd number: 0\n",
      "Addition of 1st and 2nd number is: 6\n",
      "Error occured:  division by zero\n"
     ]
    }
   ],
   "source": [
    "a = int(input(\"enter 1st number: \"))\n",
    "b = int(input(\"enter 2nd number: \"))\n",
    "\n",
    "# Addition:\n",
    "Addition = a + b\n",
    "print(f\"Addition of 1st and 2nd number is: {Addition}\")\n",
    "\n",
    "# Division:\n",
    "try:\n",
    "    Division = a / b\n",
    "    print(f\"Division of 1st by 2nd number is: {Division}\")\n",
    "except Exception as e:\n",
    "    print(\"Error occured: \", e)"
   ]
  },
  {
   "cell_type": "markdown",
   "id": "8c5a6ccb",
   "metadata": {},
   "source": [
    "3. Write a Python program to find the area of a rt. angled triangle?"
   ]
  },
  {
   "cell_type": "code",
   "execution_count": 12,
   "id": "6402887c",
   "metadata": {},
   "outputs": [
    {
     "name": "stdout",
     "output_type": "stream",
     "text": [
      "Area of triangle: 1250.0\n"
     ]
    }
   ],
   "source": [
    "height = 100\n",
    "base = 25\n",
    "\n",
    "area = height*base/2\n",
    "\n",
    "print(\"Area of triangle:\", area)"
   ]
  },
  {
   "cell_type": "markdown",
   "id": "a13d07ef",
   "metadata": {},
   "source": [
    "4. Write a Python program to swap two variables?"
   ]
  },
  {
   "cell_type": "code",
   "execution_count": 14,
   "id": "fde0adb6",
   "metadata": {},
   "outputs": [
    {
     "name": "stdout",
     "output_type": "stream",
     "text": [
      "enter value for a: 3\n",
      "enter value for b: 6\n",
      "after swapping -> a = 6, b = 3\n"
     ]
    }
   ],
   "source": [
    "a = int(input(\"enter value for a: \"))\n",
    "b = int(input(\"enter value for b: \"))\n",
    "\n",
    "temp = a\n",
    "a = b\n",
    "b = temp\n",
    "\n",
    "print(f\"after swapping -> a = {a}, b = {b}\")"
   ]
  },
  {
   "cell_type": "markdown",
   "id": "7753b4f9",
   "metadata": {},
   "source": [
    "5. Write a Python program to generate a random number?"
   ]
  },
  {
   "cell_type": "code",
   "execution_count": 1,
   "id": "1975cd9b",
   "metadata": {},
   "outputs": [
    {
     "name": "stdout",
     "output_type": "stream",
     "text": [
      "0.5048940604071519\n",
      "268\n"
     ]
    }
   ],
   "source": [
    "import random\n",
    "\n",
    "print(random.random())\n",
    "print(random.randint(1, 1000))"
   ]
  }
 ],
 "metadata": {
  "kernelspec": {
   "display_name": "Python 3 (ipykernel)",
   "language": "python",
   "name": "python3"
  },
  "language_info": {
   "codemirror_mode": {
    "name": "ipython",
    "version": 3
   },
   "file_extension": ".py",
   "mimetype": "text/x-python",
   "name": "python",
   "nbconvert_exporter": "python",
   "pygments_lexer": "ipython3",
   "version": "3.9.13"
  },
  "vscode": {
   "interpreter": {
    "hash": "9650cb4e16cdd4a8e8e2d128bf38d875813998db22a3c986335f89e0cb4d7bb2"
   }
  }
 },
 "nbformat": 4,
 "nbformat_minor": 5
}
